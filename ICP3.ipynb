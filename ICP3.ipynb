{
  "nbformat": 4,
  "nbformat_minor": 0,
  "metadata": {
    "colab": {
      "provenance": []
    },
    "kernelspec": {
      "name": "python3",
      "display_name": "Python 3"
    },
    "language_info": {
      "name": "python"
    }
  },
  "cells": [
    {
      "cell_type": "markdown",
      "source": [
        "1. Data Manipulation"
      ],
      "metadata": {
        "id": "1Dl-Q9Dur0Ri"
      }
    },
    {
      "cell_type": "code",
      "source": [
        "import pandas as pd\n",
        "\n",
        "# a. Read the CSV file\n",
        "data = '/content/data.csv'\n",
        "df = pd.read_csv(data)"
      ],
      "metadata": {
        "id": "a2jHvR3skpio"
      },
      "execution_count": 82,
      "outputs": []
    },
    {
      "cell_type": "code",
      "source": [
        "\n",
        "# b. Show the basic statistical description\n",
        "basic_stats = df.describe()\n",
        "print(\"Basic Statistical Description:\")\n",
        "print(basic_stats)"
      ],
      "metadata": {
        "colab": {
          "base_uri": "https://localhost:8080/"
        },
        "id": "Efskhrt5l2cR",
        "outputId": "8aac6f02-c4f6-4f3f-9256-cb3db7b51df5"
      },
      "execution_count": 83,
      "outputs": [
        {
          "output_type": "stream",
          "name": "stdout",
          "text": [
            "Basic Statistical Description:\n",
            "         Duration       Pulse    Maxpulse     Calories\n",
            "count  169.000000  169.000000  169.000000   164.000000\n",
            "mean    63.846154  107.461538  134.047337   375.790244\n",
            "std     42.299949   14.510259   16.450434   266.379919\n",
            "min     15.000000   80.000000  100.000000    50.300000\n",
            "25%     45.000000  100.000000  124.000000   250.925000\n",
            "50%     60.000000  105.000000  131.000000   318.600000\n",
            "75%     60.000000  111.000000  141.000000   387.600000\n",
            "max    300.000000  159.000000  184.000000  1860.400000\n"
          ]
        }
      ]
    },
    {
      "cell_type": "code",
      "source": [
        "# c. Check for null values\n",
        "null_values = df.isnull().sum()\n",
        "print(\"\\nNull Values:\")\n",
        "print(null_values)"
      ],
      "metadata": {
        "colab": {
          "base_uri": "https://localhost:8080/"
        },
        "id": "usNpaShVl6Aj",
        "outputId": "fe450b75-5c42-4df1-9651-c6f661b4472e"
      },
      "execution_count": 84,
      "outputs": [
        {
          "output_type": "stream",
          "name": "stdout",
          "text": [
            "\n",
            "Null Values:\n",
            "Duration    0\n",
            "Pulse       0\n",
            "Maxpulse    0\n",
            "Calories    5\n",
            "dtype: int64\n"
          ]
        }
      ]
    },
    {
      "cell_type": "code",
      "source": [
        "# d. Replace null values with mean\n",
        "df.fillna(df.mean(), inplace=True)"
      ],
      "metadata": {
        "id": "TGUsi56SmCyE"
      },
      "execution_count": 85,
      "outputs": []
    },
    {
      "cell_type": "code",
      "source": [
        "# e. Aggregate data using min, max, count, mean for at least two columns\n",
        "agg_columns = ['Duration', 'Calories']\n",
        "aggregated_data = df[agg_columns].agg(['min', 'max', 'count', 'mean'])\n",
        "print(\"\\nAggregated Data:\")\n",
        "print(aggregated_data)"
      ],
      "metadata": {
        "colab": {
          "base_uri": "https://localhost:8080/"
        },
        "id": "5BRdZGdBmMJR",
        "outputId": "e3a3a92b-6ce3-4cc4-92b6-2a3de93a5d2d"
      },
      "execution_count": 86,
      "outputs": [
        {
          "output_type": "stream",
          "name": "stdout",
          "text": [
            "\n",
            "Aggregated Data:\n",
            "         Duration     Calories\n",
            "min     15.000000    50.300000\n",
            "max    300.000000  1860.400000\n",
            "count  169.000000   169.000000\n",
            "mean    63.846154   375.790244\n"
          ]
        }
      ]
    },
    {
      "cell_type": "code",
      "source": [
        "# f. Filter rows with calories between 500 and 1000\n",
        "filtered_df_1 = df[(df['Calories'] >= 500) & (df['Calories'] <= 1000)]\n",
        "print(filtered_df_1)"
      ],
      "metadata": {
        "colab": {
          "base_uri": "https://localhost:8080/"
        },
        "id": "PWcfcppAmSFf",
        "outputId": "c9d15472-632e-4cbd-aee2-6f5d9c65620a"
      },
      "execution_count": 87,
      "outputs": [
        {
          "output_type": "stream",
          "name": "stdout",
          "text": [
            "     Duration  Pulse  Maxpulse  Calories\n",
            "51         80    123       146     643.1\n",
            "62        160    109       135     853.0\n",
            "65        180     90       130     800.4\n",
            "66        150    105       135     873.4\n",
            "67        150    107       130     816.0\n",
            "72         90    100       127     700.0\n",
            "73        150     97       127     953.2\n",
            "75         90     98       125     563.2\n",
            "78        120    100       130     500.4\n",
            "83        120    100       130     500.0\n",
            "90        180    101       127     600.1\n",
            "99         90     93       124     604.1\n",
            "101        90     90       110     500.0\n",
            "102        90     90       100     500.0\n",
            "103        90     90       100     500.4\n",
            "106       180     90       120     800.3\n",
            "108        90     90       120     500.3\n"
          ]
        }
      ]
    },
    {
      "cell_type": "code",
      "source": [
        "# g. Filter rows with calories > 500 and pulse < 100\n",
        "filtered_df_2 = df[(df['Calories'] > 500) & (df['Pulse'] < 100)]\n",
        "print(filtered_df_2)\n",
        ""
      ],
      "metadata": {
        "colab": {
          "base_uri": "https://localhost:8080/"
        },
        "id": "oTOhvjv6mVhR",
        "outputId": "eec79784-3811-400f-ab24-67321add2994"
      },
      "execution_count": 88,
      "outputs": [
        {
          "output_type": "stream",
          "name": "stdout",
          "text": [
            "     Duration  Pulse  Maxpulse  Calories\n",
            "65        180     90       130     800.4\n",
            "70        150     97       129    1115.0\n",
            "73        150     97       127     953.2\n",
            "75         90     98       125     563.2\n",
            "99         90     93       124     604.1\n",
            "103        90     90       100     500.4\n",
            "106       180     90       120     800.3\n",
            "108        90     90       120     500.3\n"
          ]
        }
      ]
    },
    {
      "cell_type": "code",
      "source": [
        "# h. Create a new df_modified dataframe without \"Maxpulse\"\n",
        "df_modified = df.drop(columns=['Maxpulse'])\n",
        "print(df_modified)"
      ],
      "metadata": {
        "colab": {
          "base_uri": "https://localhost:8080/"
        },
        "id": "IyhvUYQdmbF-",
        "outputId": "e2856041-f6ce-4b85-a75f-4d0c07a9be86"
      },
      "execution_count": 89,
      "outputs": [
        {
          "output_type": "stream",
          "name": "stdout",
          "text": [
            "     Duration  Pulse  Calories\n",
            "0          60    110     409.1\n",
            "1          60    117     479.0\n",
            "2          60    103     340.0\n",
            "3          45    109     282.4\n",
            "4          45    117     406.0\n",
            "..        ...    ...       ...\n",
            "164        60    105     290.8\n",
            "165        60    110     300.0\n",
            "166        60    115     310.2\n",
            "167        75    120     320.4\n",
            "168        75    125     330.4\n",
            "\n",
            "[169 rows x 3 columns]\n"
          ]
        }
      ]
    },
    {
      "cell_type": "code",
      "source": [
        "# i. Delete \"Maxpulse\" column from the main df dataframe\n",
        "df.drop(columns=['Maxpulse'], inplace=True)"
      ],
      "metadata": {
        "id": "7ucrOF94mha7"
      },
      "execution_count": 90,
      "outputs": []
    },
    {
      "cell_type": "code",
      "source": [
        "# j. Convert the datatype of Calories column to int\n",
        "df['Calories'] = df['Calories'].astype(int)"
      ],
      "metadata": {
        "id": "e4YiYd3hmlUI"
      },
      "execution_count": 92,
      "outputs": []
    },
    {
      "cell_type": "code",
      "source": [
        "# k. Scatter plot for Duration and Calories\n",
        "df.plot.scatter(x='Duration', y='Calories', title='Scatter Plot: Duration vs Calories')"
      ],
      "metadata": {
        "colab": {
          "base_uri": "https://localhost:8080/",
          "height": 490
        },
        "id": "mteEAGQLmpvS",
        "outputId": "09a8e5b7-3be9-48c6-826b-e35cfb80930d"
      },
      "execution_count": 93,
      "outputs": [
        {
          "output_type": "execute_result",
          "data": {
            "text/plain": [
              "<Axes: title={'center': 'Scatter Plot: Duration vs Calories'}, xlabel='Duration', ylabel='Calories'>"
            ]
          },
          "metadata": {},
          "execution_count": 93
        },
        {
          "output_type": "display_data",
          "data": {
            "text/plain": [
              "<Figure size 640x480 with 1 Axes>"
            ],
            "image/png": "[encoded data removed]"
          },
          "metadata": {}
        }
      ]
    },
    {
      "cell_type": "markdown",
      "source": [
        "2. Linear Regression"
      ],
      "metadata": {
        "id": "CjZCcK6VmvmN"
      }
    },
    {
      "cell_type": "code",
      "source": [
        "import pandas as pd\n",
        "import numpy as np\n",
        "from sklearn.model_selection import train_test_split\n",
        "from sklearn.linear_model import LinearRegression\n",
        "from sklearn.metrics import mean_squared_error\n",
        "import matplotlib.pyplot as plt"
      ],
      "metadata": {
        "id": "MobWS5Spm3Wp"
      },
      "execution_count": 95,
      "outputs": []
    },
    {
      "cell_type": "code",
      "source": [
        "# a. Import the given \"Salary_Data.csv\"\n",
        "salary_data = '/content/Salary_Data  .csv'\n",
        "df = pd.read_csv(salary_data)\n",
        "\n",
        "# Display the first few rows of the DataFrame\n",
        "print(\"Dataset:\")\n",
        "print(df.head())"
      ],
      "metadata": {
        "colab": {
          "base_uri": "https://localhost:8080/"
        },
        "id": "tnDC-ZPYonjQ",
        "outputId": "86a72455-2ce2-4920-b9b5-2ac31cc0d505"
      },
      "execution_count": 96,
      "outputs": [
        {
          "output_type": "stream",
          "name": "stdout",
          "text": [
            "Dataset:\n",
            "   YearsExperience   Salary\n",
            "0              1.1  39343.0\n",
            "1              1.3  46205.0\n",
            "2              1.5  37731.0\n",
            "3              2.0  43525.0\n",
            "4              2.2  39891.0\n"
          ]
        }
      ]
    },
    {
      "cell_type": "code",
      "source": [
        "# b. Split the data into train and test partitions\n",
        "X = df[['YearsExperience']]\n",
        "y = df['Salary']\n",
        "X_train, X_test, y_train, y_test = train_test_split(X, y, test_size=1/3, random_state=42)"
      ],
      "metadata": {
        "id": "x4PQpSK7rITO"
      },
      "execution_count": 98,
      "outputs": []
    },
    {
      "cell_type": "code",
      "source": [
        "# c. Train and predict the model\n",
        "model = LinearRegression()\n",
        "model.fit(X_train, y_train)\n",
        "y_train_pred = model.predict(X_train)\n",
        "y_test_pred = model.predict(X_test)"
      ],
      "metadata": {
        "id": "qUw880VtrMio"
      },
      "execution_count": 99,
      "outputs": []
    },
    {
      "cell_type": "code",
      "source": [
        "# d. Calculate mean_squared_error\n",
        "mse_train = mean_squared_error(y_train, y_train_pred)\n",
        "mse_test = mean_squared_error(y_test, y_test_pred)\n",
        "print(f\"\\nMean Squared Error (Train): {mse_train}\")\n",
        "print(f\"Mean Squared Error (Test): {mse_test}\")"
      ],
      "metadata": {
        "colab": {
          "base_uri": "https://localhost:8080/"
        },
        "id": "mhth1uc3rQhx",
        "outputId": "a339d7a1-bcf2-4a21-ac49-7d56f235ba79"
      },
      "execution_count": 100,
      "outputs": [
        {
          "output_type": "stream",
          "name": "stdout",
          "text": [
            "\n",
            "Mean Squared Error (Train): 29793161.082422983\n",
            "Mean Squared Error (Test): 35301898.887134895\n"
          ]
        }
      ]
    },
    {
      "cell_type": "code",
      "source": [
        "# e. Visualize train and test data using scatter plot\n",
        "plt.figure(figsize=(10, 6))\n",
        "\n",
        "# Scatter plot for training data\n",
        "plt.scatter(X_train, y_train, color='blue', label='Training Data')\n",
        "\n",
        "# Scatter plot for testing data\n",
        "plt.scatter(X_test, y_test, color='red', label='Testing Data')\n",
        "\n",
        "# Plotting the regression line for training data\n",
        "plt.plot(X_train, y_train_pred, color='green', linewidth=2, label='Regression Line')\n",
        "\n",
        "# Adding labels and title\n",
        "plt.xlabel('Years of Experience')\n",
        "plt.ylabel('Salary')\n",
        "plt.title('Linear Regression: Salary vs Years of Experience')\n",
        "plt.legend()\n",
        "plt.show()"
      ],
      "metadata": {
        "colab": {
          "base_uri": "https://localhost:8080/",
          "height": 564
        },
        "id": "YdhONL9RrU3L",
        "outputId": "eea15dbe-e138-4caa-f8b6-5a5208b9aed5"
      },
      "execution_count": 101,
      "outputs": [
        {
          "output_type": "display_data",
          "data": {
            "text/plain": [
              "<Figure size 1000x600 with 1 Axes>"
            ],
            "image/png": "[encoded data removed]"
          },
          "metadata": {}
        }
      ]
    },
    {
      "cell_type": "markdown",
      "source": [
        "Video link - https://colab.research.google.com/drive/1Ou-DLuNOGJ3zqVpFuil_FHp5lHxF4sPi?usp=drive_link"
      ],
      "metadata": {
        "id": "g_QJDlK8d1Be"
      }
    }
  ]
}